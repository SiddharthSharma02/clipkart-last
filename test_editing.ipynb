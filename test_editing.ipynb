{
 "cells": [
  {
   "cell_type": "code",
   "execution_count": 1,
   "metadata": {},
   "outputs": [
    {
     "name": "stderr",
     "output_type": "stream",
     "text": [
      "c:\\Python\\Lib\\site-packages\\tqdm\\auto.py:21: TqdmWarning: IProgress not found. Please update jupyter and ipywidgets. See https://ipywidgets.readthedocs.io/en/stable/user_install.html\n",
      "  from .autonotebook import tqdm as notebook_tqdm\n"
     ]
    }
   ],
   "source": [
    "import logging\n",
    "import tempfile\n",
    "from moviepy import *\n",
    "import numpy as np\n",
    "from pytubefix import YouTube\n",
    "import cv2\n",
    "from google.cloud import videointelligence\n",
    "import io\n",
    "import time\n",
    "import json\n",
    "import logging\n",
    "from scenedetect import VideoManager, SceneManager\n",
    "from scenedetect.detectors import ContentDetector\n",
    "import os\n",
    "import openai\n",
    "\n",
    "\n",
    "logging.basicConfig(level=logging.INFO, format='%(asctime)s - %(levelname)s - %(message)s')\n"
   ]
  },
  {
   "cell_type": "code",
   "execution_count": 2,
   "metadata": {},
   "outputs": [],
   "source": [
    "url = \"https://www.youtube.com/watch?v=HBt86bgsgMU\"\n",
    "temp_dir = \"D:\\\\Study\\\\Python\\\\Learning\\\\ClipKart\\\\New folder\\\\videos\" "
   ]
  },
  {
   "cell_type": "code",
   "execution_count": 3,
   "metadata": {},
   "outputs": [],
   "source": [
    "yt = YouTube(url)\n",
    "\n",
    "# Get the highest quality progressive stream\n",
    "streams = yt.streams.filter(progressive=True, file_extension='mp4')\n",
    "if not streams:\n",
    "    raise ValueError(\"No suitable video streams found for this YouTube video.\")\n",
    "    \n",
    "video = streams.order_by('resolution').desc().first()\n",
    "\n",
    "if not video:\n",
    "    raise ValueError(\"Could not find a suitable video format to download.\")"
   ]
  },
  {
   "cell_type": "code",
   "execution_count": 4,
   "metadata": {},
   "outputs": [
    {
     "data": {
      "text/plain": [
       "\"1\\n00:00:00,240 --> 00:00:07,200\\nthis is a video for wanted criminals\\n\\n2\\n00:00:03,319 --> 00:00:10,440\\nonly just turn yourself in i'm not in a\\n\\n3\\n00:00:07,200 --> 00:00:13,719\\npranking mood this April fools no horse\\n\\n4\\n00:00:10,440 --> 00:00:17,279\\nhockey i am using today for something\\n\\n5\\n00:00:13,719 --> 00:00:19,920\\nserious making a polite request for all\\n\\n6\\n00:00:17,279 --> 00:00:23,840\\nwanted criminals to go to the police\\n\\n7\\n00:00:19,920 --> 00:00:27,199\\nstation and turn yourself in pokemon go\\n\\n8\\n00:00:23,840 --> 00:00:29,439\\nto the station and let's put an end to\\n\\n9\\n00:00:27,199 --> 00:00:31,519\\nwhatever you've done if you're watching\\n\\n10\\n00:00:29,439 --> 00:00:33,680\\nthis footage and are not a wanted\\n\\n11\\n00:00:31,519 --> 00:00:36,000\\ncriminal please feel free to share this\\n\\n12\\n00:00:33,680 --> 00:00:37,920\\nvideo with a criminal you might know\\n\\n13\\n00:00:36,000 --> 00:00:39,600\\nperhaps it'll help them experience a\\n\\n14\\n00:00:37,920 --> 00:00:42,160\\nchange of heart and they'll do the right\\n\\n15\\n00:00:39,600 --> 00:00:44,719\\nthing and turn themselves in\\n\\n16\\n00:00:42,160 --> 00:00:44,719\\nthank you\""
      ]
     },
     "execution_count": 4,
     "metadata": {},
     "output_type": "execute_result"
    }
   ],
   "source": [
    "#Captions\n",
    "try: \n",
    "    caption = yt.captions['a.en']\n",
    "except:\n",
    "    caption = yt.captions['a.hi']\n",
    "\n",
    "cap = caption.generate_srt_captions()\n",
    "captions = cap.splitlines()\n",
    "cap"
   ]
  },
  {
   "cell_type": "code",
   "execution_count": 5,
   "metadata": {},
   "outputs": [],
   "source": [
    "# Get video and audio streams\n",
    "video = yt.streams.filter(res=\"1080p\", mime_type=\"video/mp4\").first()\n",
    "audio = yt.streams.filter(only_audio=True).first()\n",
    "\n",
    "output_dir = \"D:\\\\Study\\\\Python\\\\Learning\\\\ClipKart\\\\New folder\\\\videos\"\n",
    "\n",
    "# Download video and audio to the output directory\n",
    "video.download(output_path=output_dir, filename=\"video.mp4\")\n",
    "audio.download(output_path=output_dir, filename=\"audio.mp4\")\n",
    "\n",
    "# Define file paths\n",
    "video_path = os.path.join(output_dir, \"video.mp4\")\n",
    "audio_path = os.path.join(output_dir, \"audio.mp4\")\n",
    "output_path = os.path.join(output_dir, \"output.mp4\")\n",
    "\n",
    "# Merge video & audio using ffmpeg\n",
    "os.system(f'ffmpeg -i \"{video_path}\" -i \"{audio_path}\" -c:v copy -c:a aac \"{output_path}\"')\n",
    "\n",
    "# Remove temporary files\n",
    "os.remove(video_path)\n",
    "os.remove(audio_path)"
   ]
  },
  {
   "cell_type": "code",
   "execution_count": null,
   "metadata": {},
   "outputs": [],
   "source": [
    "# import openai\n",
    "\n",
    "# openai.api_key = \"your-api-key\"\n",
    "\n",
    "# # Open the audio file\n",
    "# audio_file = open(\"videos/audio.mp3\", \"rb\")\n",
    "\n",
    "# # Transcribe the audio and get an SRT-formatted response\n",
    "# srt_transcription = openai.Audio.transcribe(\"whisper-1\", audio_file, response_format=\"srt\")\n",
    "\n",
    "# # Save the SRT file\n",
    "# with open(\"output.srt\", \"w\", encoding=\"utf-8\") as file:\n",
    "#     file.write(srt_transcription)\n",
    "\n",
    "# print(\"SRT file saved as output.srt\")\n"
   ]
  },
  {
   "cell_type": "code",
   "execution_count": 17,
   "metadata": {},
   "outputs": [
    {
     "name": "stderr",
     "output_type": "stream",
     "text": [
      "2025-04-03 22:51:39,945 - WARNING - <>:2: SyntaxWarning: invalid escape sequence '\\o'\n",
      "\n",
      "2025-04-03 22:51:39,945 - WARNING - <>:17: SyntaxWarning: invalid escape sequence '\\o'\n",
      "\n",
      "2025-04-03 22:51:39,946 - WARNING - <>:2: SyntaxWarning: invalid escape sequence '\\o'\n",
      "\n",
      "2025-04-03 22:51:39,946 - WARNING - <>:17: SyntaxWarning: invalid escape sequence '\\o'\n",
      "\n",
      "2025-04-03 22:51:39,947 - WARNING - C:\\Users\\mrrpa\\AppData\\Local\\Temp\\ipykernel_8088\\2629048891.py:2: SyntaxWarning: invalid escape sequence '\\o'\n",
      "  video = VideoFileClip(\"videos\\output.mp4\")\n",
      "\n",
      "2025-04-03 22:51:39,948 - WARNING - C:\\Users\\mrrpa\\AppData\\Local\\Temp\\ipykernel_8088\\2629048891.py:17: SyntaxWarning: invalid escape sequence '\\o'\n",
      "  video_with_bars.write_videofile(\"videos\\output_square.mp4\", codec=\"libx264\", fps=video.fps)\n",
      "\n"
     ]
    },
    {
     "name": "stdout",
     "output_type": "stream",
     "text": [
      "Moviepy - Building video videos\\output_square.mp4.\n",
      "MoviePy - Writing audio in output_squareTEMP_MPY_wvf_snd.mp3\n"
     ]
    },
    {
     "name": "stderr",
     "output_type": "stream",
     "text": [
      "                                                                    \r"
     ]
    },
    {
     "name": "stdout",
     "output_type": "stream",
     "text": [
      "MoviePy - Done.\n",
      "Moviepy - Writing video videos\\output_square.mp4\n",
      "\n"
     ]
    },
    {
     "name": "stderr",
     "output_type": "stream",
     "text": [
      "                                                                \r"
     ]
    },
    {
     "name": "stdout",
     "output_type": "stream",
     "text": [
      "Moviepy - Done !\n",
      "Moviepy - video ready videos\\output_square.mp4\n"
     ]
    }
   ],
   "source": [
    "# from moviepy.editor import VideoFileClip, AudioFileClip\n",
    "# video = VideoFileClip(\"videos\\output.mp4\")\n",
    "\n",
    "\n",
    "\n",
    "# square_video = video.crop(\n",
    "#     width=1080, \n",
    "#     height=1080, \n",
    "#     x_center=video.w / 2,  # Crop from the center horizontally\n",
    "#     y_center=video.h / 2    # Crop from the center vertically\n",
    "# )\n",
    "\n",
    "# # Step 2: Add black bars on top and bottom to make it 1080x1920\n",
    "# padding = (1920 - 1080) // 2  # Calculate padding size (420px each)\n",
    "\n",
    "# video_with_bars = square_video.margin(top=padding, bottom=padding, color=(0, 0, 0))\n",
    "\n",
    "# # Save the final video\n",
    "# video_with_bars.write_videofile(\"videos\\output_square.mp4\", codec=\"libx264\", fps=video.fps)"
   ]
  },
  {
   "cell_type": "code",
   "execution_count": 6,
   "metadata": {},
   "outputs": [],
   "source": [
    "#Parse SRT INTO A LIST\n",
    "def parse_srt(srt_text):\n",
    "    blocks = srt_text.strip().split(\"\\n\\n\")  # Split by caption blocks\n",
    "    parsed_captions = []\n",
    "    \n",
    "    for block in blocks:\n",
    "        lines = block.split(\"\\n\")\n",
    "        if len(lines) >= 3:\n",
    "            index = int(lines[0])  # Caption index\n",
    "            time_range = lines[1]   # Time range\n",
    "            text = \" \".join(lines[2:])  # Caption text\n",
    "            parsed_captions.append((index, time_range, text))\n",
    "    \n",
    "    return parsed_captions\n",
    "\n",
    "captions_list = parse_srt(cap)"
   ]
  },
  {
   "cell_type": "code",
   "execution_count": 7,
   "metadata": {},
   "outputs": [],
   "source": [
    "\n",
    "# Step 3: Convert time format from SRT to moviepy-compatible timestamps\n",
    "def srt_to_seconds(time_str):\n",
    "    h, m, s = time_str.split(\":\")\n",
    "    s, ms = s.split(\",\")\n",
    "    return int(h) * 3600 + int(m) * 60 + int(s) + int(ms) / 1000\n",
    "\n",
    "formatted_captions = []\n",
    "for index, time_range, text in captions_list:\n",
    "    start, end = time_range.split(\" --> \")\n",
    "    start_time = srt_to_seconds(start)\n",
    "    end_time = srt_to_seconds(end)\n",
    "    formatted_captions.append((start_time, end_time, text))"
   ]
  },
  {
   "cell_type": "code",
   "execution_count": 61,
   "metadata": {},
   "outputs": [
    {
     "name": "stderr",
     "output_type": "stream",
     "text": [
      "2025-04-03 23:50:43,692 - WARNING - <>:5: SyntaxWarning: invalid escape sequence '\\o'\n",
      "\n",
      "2025-04-03 23:50:43,693 - WARNING - <>:29: SyntaxWarning: invalid escape sequence '\\o'\n",
      "\n",
      "2025-04-03 23:50:43,693 - WARNING - <>:5: SyntaxWarning: invalid escape sequence '\\o'\n",
      "\n",
      "2025-04-03 23:50:43,694 - WARNING - <>:29: SyntaxWarning: invalid escape sequence '\\o'\n",
      "\n",
      "2025-04-03 23:50:43,695 - WARNING - C:\\Users\\mrrpa\\AppData\\Local\\Temp\\ipykernel_8088\\4069590584.py:5: SyntaxWarning: invalid escape sequence '\\o'\n",
      "  video = VideoFileClip(\"videos\\output.mp4\")  # Load video file\n",
      "\n",
      "2025-04-03 23:50:43,696 - WARNING - C:\\Users\\mrrpa\\AppData\\Local\\Temp\\ipykernel_8088\\4069590584.py:29: SyntaxWarning: invalid escape sequence '\\o'\n",
      "  video_with_bars.write_videofile(\"videos\\output_square.mp4\", codec=\"libx264\", fps=video.fps)\n",
      "\n",
      "2025-04-03 23:50:43,986 - WARNING - C:\\Users\\mrrpa\\AppData\\Local\\Temp\\ipykernel_8088\\4069590584.py:5: SyntaxWarning: invalid escape sequence '\\o'\n",
      "  video = VideoFileClip(\"videos\\output.mp4\")  # Load video file\n",
      "\n",
      "2025-04-03 23:50:43,987 - WARNING - C:\\Users\\mrrpa\\AppData\\Local\\Temp\\ipykernel_8088\\4069590584.py:29: SyntaxWarning: invalid escape sequence '\\o'\n",
      "  video_with_bars.write_videofile(\"videos\\output_square.mp4\", codec=\"libx264\", fps=video.fps)\n",
      "\n"
     ]
    },
    {
     "ename": "OSError",
     "evalue": "MoviePy Error: creation of None failed because of the following error:\n\n[WinError 2] The system cannot find the file specified.\n\n.This error can be due to the fact that ImageMagick is not installed on your computer, or (for Windows users) that you didn't specify the path to the ImageMagick binary in file conf.py, or that the path you specified is incorrect",
     "output_type": "error",
     "traceback": [
      "\u001b[1;31m---------------------------------------------------------------------------\u001b[0m",
      "\u001b[1;31mFileNotFoundError\u001b[0m                         Traceback (most recent call last)",
      "File \u001b[1;32mc:\\Python\\Lib\\site-packages\\moviepy\\video\\VideoClip.py:1137\u001b[0m, in \u001b[0;36mTextClip.__init__\u001b[1;34m(self, txt, filename, size, color, bg_color, fontsize, font, stroke_color, stroke_width, method, kerning, align, interline, tempfilename, temptxt, transparent, remove_temp, print_cmd)\u001b[0m\n\u001b[0;32m   1136\u001b[0m \u001b[38;5;28;01mtry\u001b[39;00m:\n\u001b[1;32m-> 1137\u001b[0m     \u001b[43msubprocess_call\u001b[49m\u001b[43m(\u001b[49m\u001b[43mcmd\u001b[49m\u001b[43m,\u001b[49m\u001b[43m \u001b[49m\u001b[43mlogger\u001b[49m\u001b[38;5;241;43m=\u001b[39;49m\u001b[38;5;28;43;01mNone\u001b[39;49;00m\u001b[43m)\u001b[49m\n\u001b[0;32m   1138\u001b[0m \u001b[38;5;28;01mexcept\u001b[39;00m (\u001b[38;5;167;01mIOError\u001b[39;00m, \u001b[38;5;167;01mOSError\u001b[39;00m) \u001b[38;5;28;01mas\u001b[39;00m err:\n",
      "File \u001b[1;32mc:\\Python\\Lib\\site-packages\\moviepy\\tools.py:46\u001b[0m, in \u001b[0;36msubprocess_call\u001b[1;34m(cmd, logger, errorprint)\u001b[0m\n\u001b[0;32m     44\u001b[0m     popen_params[\u001b[38;5;124m\"\u001b[39m\u001b[38;5;124mcreationflags\u001b[39m\u001b[38;5;124m\"\u001b[39m] \u001b[38;5;241m=\u001b[39m \u001b[38;5;241m0x08000000\u001b[39m\n\u001b[1;32m---> 46\u001b[0m proc \u001b[38;5;241m=\u001b[39m \u001b[43msp\u001b[49m\u001b[38;5;241;43m.\u001b[39;49m\u001b[43mPopen\u001b[49m\u001b[43m(\u001b[49m\u001b[43mcmd\u001b[49m\u001b[43m,\u001b[49m\u001b[43m \u001b[49m\u001b[38;5;241;43m*\u001b[39;49m\u001b[38;5;241;43m*\u001b[39;49m\u001b[43mpopen_params\u001b[49m\u001b[43m)\u001b[49m\n\u001b[0;32m     48\u001b[0m out, err \u001b[38;5;241m=\u001b[39m proc\u001b[38;5;241m.\u001b[39mcommunicate() \u001b[38;5;66;03m# proc.wait()\u001b[39;00m\n",
      "File \u001b[1;32mc:\\Python\\Lib\\subprocess.py:1036\u001b[0m, in \u001b[0;36mPopen.__init__\u001b[1;34m(self, args, bufsize, executable, stdin, stdout, stderr, preexec_fn, close_fds, shell, cwd, env, universal_newlines, startupinfo, creationflags, restore_signals, start_new_session, pass_fds, user, group, extra_groups, encoding, errors, text, umask, pipesize, process_group)\u001b[0m\n\u001b[0;32m   1033\u001b[0m             \u001b[38;5;28mself\u001b[39m\u001b[38;5;241m.\u001b[39mstderr \u001b[38;5;241m=\u001b[39m io\u001b[38;5;241m.\u001b[39mTextIOWrapper(\u001b[38;5;28mself\u001b[39m\u001b[38;5;241m.\u001b[39mstderr,\n\u001b[0;32m   1034\u001b[0m                     encoding\u001b[38;5;241m=\u001b[39mencoding, errors\u001b[38;5;241m=\u001b[39merrors)\n\u001b[1;32m-> 1036\u001b[0m     \u001b[38;5;28;43mself\u001b[39;49m\u001b[38;5;241;43m.\u001b[39;49m\u001b[43m_execute_child\u001b[49m\u001b[43m(\u001b[49m\u001b[43margs\u001b[49m\u001b[43m,\u001b[49m\u001b[43m \u001b[49m\u001b[43mexecutable\u001b[49m\u001b[43m,\u001b[49m\u001b[43m \u001b[49m\u001b[43mpreexec_fn\u001b[49m\u001b[43m,\u001b[49m\u001b[43m \u001b[49m\u001b[43mclose_fds\u001b[49m\u001b[43m,\u001b[49m\n\u001b[0;32m   1037\u001b[0m \u001b[43m                        \u001b[49m\u001b[43mpass_fds\u001b[49m\u001b[43m,\u001b[49m\u001b[43m \u001b[49m\u001b[43mcwd\u001b[49m\u001b[43m,\u001b[49m\u001b[43m \u001b[49m\u001b[43menv\u001b[49m\u001b[43m,\u001b[49m\n\u001b[0;32m   1038\u001b[0m \u001b[43m                        \u001b[49m\u001b[43mstartupinfo\u001b[49m\u001b[43m,\u001b[49m\u001b[43m \u001b[49m\u001b[43mcreationflags\u001b[49m\u001b[43m,\u001b[49m\u001b[43m \u001b[49m\u001b[43mshell\u001b[49m\u001b[43m,\u001b[49m\n\u001b[0;32m   1039\u001b[0m \u001b[43m                        \u001b[49m\u001b[43mp2cread\u001b[49m\u001b[43m,\u001b[49m\u001b[43m \u001b[49m\u001b[43mp2cwrite\u001b[49m\u001b[43m,\u001b[49m\n\u001b[0;32m   1040\u001b[0m \u001b[43m                        \u001b[49m\u001b[43mc2pread\u001b[49m\u001b[43m,\u001b[49m\u001b[43m \u001b[49m\u001b[43mc2pwrite\u001b[49m\u001b[43m,\u001b[49m\n\u001b[0;32m   1041\u001b[0m \u001b[43m                        \u001b[49m\u001b[43merrread\u001b[49m\u001b[43m,\u001b[49m\u001b[43m \u001b[49m\u001b[43merrwrite\u001b[49m\u001b[43m,\u001b[49m\n\u001b[0;32m   1042\u001b[0m \u001b[43m                        \u001b[49m\u001b[43mrestore_signals\u001b[49m\u001b[43m,\u001b[49m\n\u001b[0;32m   1043\u001b[0m \u001b[43m                        \u001b[49m\u001b[43mgid\u001b[49m\u001b[43m,\u001b[49m\u001b[43m \u001b[49m\u001b[43mgids\u001b[49m\u001b[43m,\u001b[49m\u001b[43m \u001b[49m\u001b[43muid\u001b[49m\u001b[43m,\u001b[49m\u001b[43m \u001b[49m\u001b[43mumask\u001b[49m\u001b[43m,\u001b[49m\n\u001b[0;32m   1044\u001b[0m \u001b[43m                        \u001b[49m\u001b[43mstart_new_session\u001b[49m\u001b[43m,\u001b[49m\u001b[43m \u001b[49m\u001b[43mprocess_group\u001b[49m\u001b[43m)\u001b[49m\n\u001b[0;32m   1045\u001b[0m \u001b[38;5;28;01mexcept\u001b[39;00m:\n\u001b[0;32m   1046\u001b[0m     \u001b[38;5;66;03m# Cleanup if the child failed starting.\u001b[39;00m\n",
      "File \u001b[1;32mc:\\Python\\Lib\\subprocess.py:1548\u001b[0m, in \u001b[0;36mPopen._execute_child\u001b[1;34m(self, args, executable, preexec_fn, close_fds, pass_fds, cwd, env, startupinfo, creationflags, shell, p2cread, p2cwrite, c2pread, c2pwrite, errread, errwrite, unused_restore_signals, unused_gid, unused_gids, unused_uid, unused_umask, unused_start_new_session, unused_process_group)\u001b[0m\n\u001b[0;32m   1547\u001b[0m \u001b[38;5;28;01mtry\u001b[39;00m:\n\u001b[1;32m-> 1548\u001b[0m     hp, ht, pid, tid \u001b[38;5;241m=\u001b[39m \u001b[43m_winapi\u001b[49m\u001b[38;5;241;43m.\u001b[39;49m\u001b[43mCreateProcess\u001b[49m\u001b[43m(\u001b[49m\u001b[43mexecutable\u001b[49m\u001b[43m,\u001b[49m\u001b[43m \u001b[49m\u001b[43margs\u001b[49m\u001b[43m,\u001b[49m\n\u001b[0;32m   1549\u001b[0m \u001b[43m                             \u001b[49m\u001b[38;5;66;43;03m# no special security\u001b[39;49;00m\n\u001b[0;32m   1550\u001b[0m \u001b[43m                             \u001b[49m\u001b[38;5;28;43;01mNone\u001b[39;49;00m\u001b[43m,\u001b[49m\u001b[43m \u001b[49m\u001b[38;5;28;43;01mNone\u001b[39;49;00m\u001b[43m,\u001b[49m\n\u001b[0;32m   1551\u001b[0m \u001b[43m                             \u001b[49m\u001b[38;5;28;43mint\u001b[39;49m\u001b[43m(\u001b[49m\u001b[38;5;129;43;01mnot\u001b[39;49;00m\u001b[43m \u001b[49m\u001b[43mclose_fds\u001b[49m\u001b[43m)\u001b[49m\u001b[43m,\u001b[49m\n\u001b[0;32m   1552\u001b[0m \u001b[43m                             \u001b[49m\u001b[43mcreationflags\u001b[49m\u001b[43m,\u001b[49m\n\u001b[0;32m   1553\u001b[0m \u001b[43m                             \u001b[49m\u001b[43menv\u001b[49m\u001b[43m,\u001b[49m\n\u001b[0;32m   1554\u001b[0m \u001b[43m                             \u001b[49m\u001b[43mcwd\u001b[49m\u001b[43m,\u001b[49m\n\u001b[0;32m   1555\u001b[0m \u001b[43m                             \u001b[49m\u001b[43mstartupinfo\u001b[49m\u001b[43m)\u001b[49m\n\u001b[0;32m   1556\u001b[0m \u001b[38;5;28;01mfinally\u001b[39;00m:\n\u001b[0;32m   1557\u001b[0m     \u001b[38;5;66;03m# Child is launched. Close the parent's copy of those pipe\u001b[39;00m\n\u001b[0;32m   1558\u001b[0m     \u001b[38;5;66;03m# handles that only the child should have open.  You need\u001b[39;00m\n\u001b[1;32m   (...)\u001b[0m\n\u001b[0;32m   1561\u001b[0m     \u001b[38;5;66;03m# pipe will not close when the child process exits and the\u001b[39;00m\n\u001b[0;32m   1562\u001b[0m     \u001b[38;5;66;03m# ReadFile will hang.\u001b[39;00m\n",
      "\u001b[1;31mFileNotFoundError\u001b[0m: [WinError 2] The system cannot find the file specified",
      "\nDuring handling of the above exception, another exception occurred:\n",
      "\u001b[1;31mOSError\u001b[0m                                   Traceback (most recent call last)",
      "Cell \u001b[1;32mIn[61], line 9\u001b[0m\n\u001b[0;32m      7\u001b[0m text_clips \u001b[38;5;241m=\u001b[39m []\n\u001b[0;32m      8\u001b[0m \u001b[38;5;28;01mfor\u001b[39;00m start, end, text \u001b[38;5;129;01min\u001b[39;00m formatted_captions:\n\u001b[1;32m----> 9\u001b[0m     txt_clip \u001b[38;5;241m=\u001b[39m \u001b[43mTextClip\u001b[49m\u001b[43m(\u001b[49m\u001b[43mtext\u001b[49m\u001b[43m,\u001b[49m\u001b[43m \u001b[49m\u001b[43mfontsize\u001b[49m\u001b[38;5;241;43m=\u001b[39;49m\u001b[38;5;241;43m24\u001b[39;49m\u001b[43m,\u001b[49m\u001b[43m \u001b[49m\u001b[43mcolor\u001b[49m\u001b[38;5;241;43m=\u001b[39;49m\u001b[38;5;124;43m'\u001b[39;49m\u001b[38;5;124;43mwhite\u001b[39;49m\u001b[38;5;124;43m'\u001b[39;49m\u001b[43m,\u001b[49m\u001b[43m \u001b[49m\u001b[43mbg_color\u001b[49m\u001b[38;5;241;43m=\u001b[39;49m\u001b[38;5;124;43m'\u001b[39;49m\u001b[38;5;124;43mblack\u001b[39;49m\u001b[38;5;124;43m'\u001b[39;49m\u001b[43m)\u001b[49m\n\u001b[0;32m     10\u001b[0m     txt_clip \u001b[38;5;241m=\u001b[39m txt_clip\u001b[38;5;241m.\u001b[39mset_position((\u001b[38;5;124m\"\u001b[39m\u001b[38;5;124mcenter\u001b[39m\u001b[38;5;124m\"\u001b[39m, \u001b[38;5;124m\"\u001b[39m\u001b[38;5;124mbottom\u001b[39m\u001b[38;5;124m\"\u001b[39m))\u001b[38;5;241m.\u001b[39mset_duration(end \u001b[38;5;241m-\u001b[39m start)\u001b[38;5;241m.\u001b[39mset_start(start)\n\u001b[0;32m     11\u001b[0m     text_clips\u001b[38;5;241m.\u001b[39mappend(txt_clip)\n",
      "File \u001b[1;32mc:\\Python\\Lib\\site-packages\\moviepy\\video\\VideoClip.py:1146\u001b[0m, in \u001b[0;36mTextClip.__init__\u001b[1;34m(self, txt, filename, size, color, bg_color, fontsize, font, stroke_color, stroke_width, method, kerning, align, interline, tempfilename, temptxt, transparent, remove_temp, print_cmd)\u001b[0m\n\u001b[0;32m   1138\u001b[0m \u001b[38;5;28;01mexcept\u001b[39;00m (\u001b[38;5;167;01mIOError\u001b[39;00m, \u001b[38;5;167;01mOSError\u001b[39;00m) \u001b[38;5;28;01mas\u001b[39;00m err:\n\u001b[0;32m   1139\u001b[0m     error \u001b[38;5;241m=\u001b[39m (\u001b[38;5;124m\"\u001b[39m\u001b[38;5;124mMoviePy Error: creation of \u001b[39m\u001b[38;5;132;01m%s\u001b[39;00m\u001b[38;5;124m failed because of the \u001b[39m\u001b[38;5;124m\"\u001b[39m\n\u001b[0;32m   1140\u001b[0m              \u001b[38;5;124m\"\u001b[39m\u001b[38;5;124mfollowing error:\u001b[39m\u001b[38;5;130;01m\\n\u001b[39;00m\u001b[38;5;130;01m\\n\u001b[39;00m\u001b[38;5;132;01m%s\u001b[39;00m\u001b[38;5;124m.\u001b[39m\u001b[38;5;130;01m\\n\u001b[39;00m\u001b[38;5;130;01m\\n\u001b[39;00m\u001b[38;5;124m.\u001b[39m\u001b[38;5;124m\"\u001b[39m \u001b[38;5;241m%\u001b[39m (filename, \u001b[38;5;28mstr\u001b[39m(err))\n\u001b[0;32m   1141\u001b[0m              \u001b[38;5;241m+\u001b[39m (\u001b[38;5;124m\"\u001b[39m\u001b[38;5;124mThis error can be due to the fact that ImageMagick \u001b[39m\u001b[38;5;124m\"\u001b[39m\n\u001b[1;32m   (...)\u001b[0m\n\u001b[0;32m   1144\u001b[0m                 \u001b[38;5;124m\"\u001b[39m\u001b[38;5;124mImageMagick binary in file conf.py, or that the path \u001b[39m\u001b[38;5;124m\"\u001b[39m\n\u001b[0;32m   1145\u001b[0m                 \u001b[38;5;124m\"\u001b[39m\u001b[38;5;124myou specified is incorrect\u001b[39m\u001b[38;5;124m\"\u001b[39m))\n\u001b[1;32m-> 1146\u001b[0m     \u001b[38;5;28;01mraise\u001b[39;00m \u001b[38;5;167;01mIOError\u001b[39;00m(error)\n\u001b[0;32m   1148\u001b[0m ImageClip\u001b[38;5;241m.\u001b[39m\u001b[38;5;21m__init__\u001b[39m(\u001b[38;5;28mself\u001b[39m, tempfilename, transparent\u001b[38;5;241m=\u001b[39mtransparent)\n\u001b[0;32m   1149\u001b[0m \u001b[38;5;28mself\u001b[39m\u001b[38;5;241m.\u001b[39mtxt \u001b[38;5;241m=\u001b[39m txt\n",
      "\u001b[1;31mOSError\u001b[0m: MoviePy Error: creation of None failed because of the following error:\n\n[WinError 2] The system cannot find the file specified.\n\n.This error can be due to the fact that ImageMagick is not installed on your computer, or (for Windows users) that you didn't specify the path to the ImageMagick binary in file conf.py, or that the path you specified is incorrect"
     ]
    }
   ],
   "source": [
    "# from moviepy.editor import VideoFileClip, TextClip, CompositeVideoClip\n",
    "\n",
    "\n",
    "# # Step 4: Add captions to the video using moviepy\n",
    "# video = VideoFileClip(\"videos\\output.mp4\")  # Load video file\n",
    "\n",
    "# text_clips = []\n",
    "# for start, end, text in formatted_captions:\n",
    "#     txt_clip = TextClip(text, fontsize=24, color='white', bg_color='black')\n",
    "#     txt_clip = txt_clip.set_position((\"center\", \"bottom\")).set_duration(end - start).set_start(start)\n",
    "#     text_clips.append(txt_clip)\n",
    "\n",
    "# # Overlay text on video\n",
    "# final_video = CompositeVideoClip([video] + text_clips)\n",
    "\n",
    "# square_video = final_video.crop(\n",
    "#     width=1080, \n",
    "#     height=1080, \n",
    "#     x_center=final_video.w / 2,  # Crop from the center horizontally\n",
    "#     y_center=final_video.h / 2    # Crop from the center vertically\n",
    "# )\n",
    "\n",
    "# # Step 2: Add black bars on top and bottom to make it 1080x1920\n",
    "# padding = (1920 - 1080) // 2  # Calculate padding size (420px each)\n",
    "\n",
    "# video_with_bars = square_video.margin(top=padding, bottom=padding, color=(0, 0, 0))\n",
    "\n",
    "# # Save the final video\n",
    "# video_with_bars.write_videofile(\"videos\\output_square.mp4\", codec=\"libx264\", fps=video.fps)"
   ]
  },
  {
   "cell_type": "code",
   "execution_count": 67,
   "metadata": {},
   "outputs": [
    {
     "name": "stderr",
     "output_type": "stream",
     "text": [
      "2025-04-03 23:57:24,418 - WARNING - c:\\Python\\Lib\\site-packages\\moviepy\\video\\VideoClip.py:889: DeprecationWarning: Starting with ImageIO v3 the behavior of this function will switch to that of iio.v3.imread. To keep the current behavior (and make this warning disappear) use `import imageio.v2 as imageio` or call `imageio.v2.imread` directly.\n",
      "  img = imread(img)\n",
      "\n"
     ]
    },
    {
     "name": "stdout",
     "output_type": "stream",
     "text": [
      "Original video size: 1920x1080\n",
      "Moviepy - Building video videos/output_square.mp4.\n",
      "MoviePy - Writing audio in output_squareTEMP_MPY_wvf_snd.mp3\n"
     ]
    },
    {
     "name": "stderr",
     "output_type": "stream",
     "text": [
      "                                                                    \r"
     ]
    },
    {
     "name": "stdout",
     "output_type": "stream",
     "text": [
      "MoviePy - Done.\n",
      "Moviepy - Writing video videos/output_square.mp4\n",
      "\n"
     ]
    },
    {
     "name": "stderr",
     "output_type": "stream",
     "text": [
      "t:  96%|█████████▌| 2582/2684 [02:49<00:06, 15.99it/s, now=None]2025-04-04 00:00:15,894 - WARNING - c:\\Python\\Lib\\site-packages\\moviepy\\video\\io\\ffmpeg_reader.py:123: UserWarning: Warning: in file videos/output.mp4, 6220800 bytes wanted but 0 bytes read,at frame 2581/2589, at time 43.02/43.14 sec. Using the last valid frame instead.\n",
      "  warnings.warn(\"Warning: in file %s, \"%(self.filename)+\n",
      "\n",
      "2025-04-04 00:00:15,953 - WARNING - c:\\Python\\Lib\\site-packages\\moviepy\\video\\io\\ffmpeg_reader.py:123: UserWarning: Warning: in file videos/output.mp4, 6220800 bytes wanted but 0 bytes read,at frame 2582/2589, at time 43.03/43.14 sec. Using the last valid frame instead.\n",
      "  warnings.warn(\"Warning: in file %s, \"%(self.filename)+\n",
      "\n",
      "t:  96%|█████████▋| 2584/2684 [02:49<00:06, 15.92it/s, now=None]2025-04-04 00:00:16,020 - WARNING - c:\\Python\\Lib\\site-packages\\moviepy\\video\\io\\ffmpeg_reader.py:123: UserWarning: Warning: in file videos/output.mp4, 6220800 bytes wanted but 0 bytes read,at frame 2583/2589, at time 43.05/43.14 sec. Using the last valid frame instead.\n",
      "  warnings.warn(\"Warning: in file %s, \"%(self.filename)+\n",
      "\n",
      "2025-04-04 00:00:16,078 - WARNING - c:\\Python\\Lib\\site-packages\\moviepy\\video\\io\\ffmpeg_reader.py:123: UserWarning: Warning: in file videos/output.mp4, 6220800 bytes wanted but 0 bytes read,at frame 2584/2589, at time 43.07/43.14 sec. Using the last valid frame instead.\n",
      "  warnings.warn(\"Warning: in file %s, \"%(self.filename)+\n",
      "\n",
      "t:  96%|█████████▋| 2586/2684 [02:49<00:06, 16.30it/s, now=None]2025-04-04 00:00:16,136 - WARNING - c:\\Python\\Lib\\site-packages\\moviepy\\video\\io\\ffmpeg_reader.py:123: UserWarning: Warning: in file videos/output.mp4, 6220800 bytes wanted but 0 bytes read,at frame 2585/2589, at time 43.08/43.14 sec. Using the last valid frame instead.\n",
      "  warnings.warn(\"Warning: in file %s, \"%(self.filename)+\n",
      "\n",
      "2025-04-04 00:00:16,192 - WARNING - c:\\Python\\Lib\\site-packages\\moviepy\\video\\io\\ffmpeg_reader.py:123: UserWarning: Warning: in file videos/output.mp4, 6220800 bytes wanted but 0 bytes read,at frame 2586/2589, at time 43.10/43.14 sec. Using the last valid frame instead.\n",
      "  warnings.warn(\"Warning: in file %s, \"%(self.filename)+\n",
      "\n",
      "t:  96%|█████████▋| 2588/2684 [02:49<00:05, 16.46it/s, now=None]2025-04-04 00:00:16,254 - WARNING - c:\\Python\\Lib\\site-packages\\moviepy\\video\\io\\ffmpeg_reader.py:123: UserWarning: Warning: in file videos/output.mp4, 6220800 bytes wanted but 0 bytes read,at frame 2587/2589, at time 43.12/43.14 sec. Using the last valid frame instead.\n",
      "  warnings.warn(\"Warning: in file %s, \"%(self.filename)+\n",
      "\n",
      "2025-04-04 00:00:16,313 - WARNING - c:\\Python\\Lib\\site-packages\\moviepy\\video\\io\\ffmpeg_reader.py:123: UserWarning: Warning: in file videos/output.mp4, 6220800 bytes wanted but 0 bytes read,at frame 2588/2589, at time 43.13/43.14 sec. Using the last valid frame instead.\n",
      "  warnings.warn(\"Warning: in file %s, \"%(self.filename)+\n",
      "\n",
      "                                                                \r"
     ]
    },
    {
     "name": "stdout",
     "output_type": "stream",
     "text": [
      "Moviepy - Done !\n",
      "Moviepy - video ready videos/output_square.mp4\n"
     ]
    }
   ],
   "source": [
    "# from moviepy.editor import VideoFileClip, TextClip, CompositeVideoClip\n",
    "# import moviepy.config as mpconf\n",
    "\n",
    "# # Set the path to ImageMagick (change it based on your installation directory)\n",
    "# mpconf.change_settings({\"IMAGEMAGICK_BINARY\": r\"C:\\Program Files\\ImageMagick-7.1.1-Q16-HDRI\\magick.exe\"})\n",
    "\n",
    "\n",
    "# # Load video file\n",
    "# video = VideoFileClip(\"videos/output.mp4\")\n",
    "\n",
    "# # Add captions\n",
    "# text_clips = []\n",
    "# for start, end, text in formatted_captions:\n",
    "#     txt_clip = TextClip(text, fontsize=24, color='white', bg_color='black', font=\"Arial\")\n",
    "#     txt_clip = txt_clip.set_position((\"center\", \"bottom\")).set_duration(end - start).set_start(start)\n",
    "#     text_clips.append(txt_clip)\n",
    "\n",
    "# # Overlay text on video\n",
    "# final_video = CompositeVideoClip([video] + text_clips)\n",
    "\n",
    "# # Print video size to check\n",
    "# print(f\"Original video size: {final_video.w}x{final_video.h}\")\n",
    "\n",
    "# # Crop to square (centered)\n",
    "# square_video = final_video.crop(\n",
    "#     width=1080, \n",
    "#     height=1080, \n",
    "#     x_center=final_video.w / 2,  \n",
    "#     y_center=final_video.h / 2    \n",
    "# )\n",
    "\n",
    "# # Add black bars for 1080x1920 format\n",
    "# padding = (1080 - 1080) // 2  \n",
    "# video_with_bars = square_video.margin(top=padding, bottom=padding, color=(0, 0, 0))\n",
    "\n",
    "# # Save the final video\n",
    "# video_with_bars.write_videofile(\"videos/output_square.mp4\", codec=\"libx264\", fps=video.fps)\n"
   ]
  },
  {
   "cell_type": "code",
   "execution_count": 66,
   "metadata": {},
   "outputs": [
    {
     "ename": "OSError",
     "evalue": "MoviePy Error: creation of None failed because of the following error:\n\n[WinError 2] The system cannot find the file specified.\n\n.This error can be due to the fact that ImageMagick is not installed on your computer, or (for Windows users) that you didn't specify the path to the ImageMagick binary in file conf.py, or that the path you specified is incorrect",
     "output_type": "error",
     "traceback": [
      "\u001b[1;31m---------------------------------------------------------------------------\u001b[0m",
      "\u001b[1;31mFileNotFoundError\u001b[0m                         Traceback (most recent call last)",
      "File \u001b[1;32mc:\\Python\\Lib\\site-packages\\moviepy\\video\\VideoClip.py:1137\u001b[0m, in \u001b[0;36mTextClip.__init__\u001b[1;34m(self, txt, filename, size, color, bg_color, fontsize, font, stroke_color, stroke_width, method, kerning, align, interline, tempfilename, temptxt, transparent, remove_temp, print_cmd)\u001b[0m\n\u001b[0;32m   1136\u001b[0m \u001b[38;5;28;01mtry\u001b[39;00m:\n\u001b[1;32m-> 1137\u001b[0m     \u001b[43msubprocess_call\u001b[49m\u001b[43m(\u001b[49m\u001b[43mcmd\u001b[49m\u001b[43m,\u001b[49m\u001b[43m \u001b[49m\u001b[43mlogger\u001b[49m\u001b[38;5;241;43m=\u001b[39;49m\u001b[38;5;28;43;01mNone\u001b[39;49;00m\u001b[43m)\u001b[49m\n\u001b[0;32m   1138\u001b[0m \u001b[38;5;28;01mexcept\u001b[39;00m (\u001b[38;5;167;01mIOError\u001b[39;00m, \u001b[38;5;167;01mOSError\u001b[39;00m) \u001b[38;5;28;01mas\u001b[39;00m err:\n",
      "File \u001b[1;32mc:\\Python\\Lib\\site-packages\\moviepy\\tools.py:46\u001b[0m, in \u001b[0;36msubprocess_call\u001b[1;34m(cmd, logger, errorprint)\u001b[0m\n\u001b[0;32m     44\u001b[0m     popen_params[\u001b[38;5;124m\"\u001b[39m\u001b[38;5;124mcreationflags\u001b[39m\u001b[38;5;124m\"\u001b[39m] \u001b[38;5;241m=\u001b[39m \u001b[38;5;241m0x08000000\u001b[39m\n\u001b[1;32m---> 46\u001b[0m proc \u001b[38;5;241m=\u001b[39m \u001b[43msp\u001b[49m\u001b[38;5;241;43m.\u001b[39;49m\u001b[43mPopen\u001b[49m\u001b[43m(\u001b[49m\u001b[43mcmd\u001b[49m\u001b[43m,\u001b[49m\u001b[43m \u001b[49m\u001b[38;5;241;43m*\u001b[39;49m\u001b[38;5;241;43m*\u001b[39;49m\u001b[43mpopen_params\u001b[49m\u001b[43m)\u001b[49m\n\u001b[0;32m     48\u001b[0m out, err \u001b[38;5;241m=\u001b[39m proc\u001b[38;5;241m.\u001b[39mcommunicate() \u001b[38;5;66;03m# proc.wait()\u001b[39;00m\n",
      "File \u001b[1;32mc:\\Python\\Lib\\subprocess.py:1036\u001b[0m, in \u001b[0;36mPopen.__init__\u001b[1;34m(self, args, bufsize, executable, stdin, stdout, stderr, preexec_fn, close_fds, shell, cwd, env, universal_newlines, startupinfo, creationflags, restore_signals, start_new_session, pass_fds, user, group, extra_groups, encoding, errors, text, umask, pipesize, process_group)\u001b[0m\n\u001b[0;32m   1033\u001b[0m             \u001b[38;5;28mself\u001b[39m\u001b[38;5;241m.\u001b[39mstderr \u001b[38;5;241m=\u001b[39m io\u001b[38;5;241m.\u001b[39mTextIOWrapper(\u001b[38;5;28mself\u001b[39m\u001b[38;5;241m.\u001b[39mstderr,\n\u001b[0;32m   1034\u001b[0m                     encoding\u001b[38;5;241m=\u001b[39mencoding, errors\u001b[38;5;241m=\u001b[39merrors)\n\u001b[1;32m-> 1036\u001b[0m     \u001b[38;5;28;43mself\u001b[39;49m\u001b[38;5;241;43m.\u001b[39;49m\u001b[43m_execute_child\u001b[49m\u001b[43m(\u001b[49m\u001b[43margs\u001b[49m\u001b[43m,\u001b[49m\u001b[43m \u001b[49m\u001b[43mexecutable\u001b[49m\u001b[43m,\u001b[49m\u001b[43m \u001b[49m\u001b[43mpreexec_fn\u001b[49m\u001b[43m,\u001b[49m\u001b[43m \u001b[49m\u001b[43mclose_fds\u001b[49m\u001b[43m,\u001b[49m\n\u001b[0;32m   1037\u001b[0m \u001b[43m                        \u001b[49m\u001b[43mpass_fds\u001b[49m\u001b[43m,\u001b[49m\u001b[43m \u001b[49m\u001b[43mcwd\u001b[49m\u001b[43m,\u001b[49m\u001b[43m \u001b[49m\u001b[43menv\u001b[49m\u001b[43m,\u001b[49m\n\u001b[0;32m   1038\u001b[0m \u001b[43m                        \u001b[49m\u001b[43mstartupinfo\u001b[49m\u001b[43m,\u001b[49m\u001b[43m \u001b[49m\u001b[43mcreationflags\u001b[49m\u001b[43m,\u001b[49m\u001b[43m \u001b[49m\u001b[43mshell\u001b[49m\u001b[43m,\u001b[49m\n\u001b[0;32m   1039\u001b[0m \u001b[43m                        \u001b[49m\u001b[43mp2cread\u001b[49m\u001b[43m,\u001b[49m\u001b[43m \u001b[49m\u001b[43mp2cwrite\u001b[49m\u001b[43m,\u001b[49m\n\u001b[0;32m   1040\u001b[0m \u001b[43m                        \u001b[49m\u001b[43mc2pread\u001b[49m\u001b[43m,\u001b[49m\u001b[43m \u001b[49m\u001b[43mc2pwrite\u001b[49m\u001b[43m,\u001b[49m\n\u001b[0;32m   1041\u001b[0m \u001b[43m                        \u001b[49m\u001b[43merrread\u001b[49m\u001b[43m,\u001b[49m\u001b[43m \u001b[49m\u001b[43merrwrite\u001b[49m\u001b[43m,\u001b[49m\n\u001b[0;32m   1042\u001b[0m \u001b[43m                        \u001b[49m\u001b[43mrestore_signals\u001b[49m\u001b[43m,\u001b[49m\n\u001b[0;32m   1043\u001b[0m \u001b[43m                        \u001b[49m\u001b[43mgid\u001b[49m\u001b[43m,\u001b[49m\u001b[43m \u001b[49m\u001b[43mgids\u001b[49m\u001b[43m,\u001b[49m\u001b[43m \u001b[49m\u001b[43muid\u001b[49m\u001b[43m,\u001b[49m\u001b[43m \u001b[49m\u001b[43mumask\u001b[49m\u001b[43m,\u001b[49m\n\u001b[0;32m   1044\u001b[0m \u001b[43m                        \u001b[49m\u001b[43mstart_new_session\u001b[49m\u001b[43m,\u001b[49m\u001b[43m \u001b[49m\u001b[43mprocess_group\u001b[49m\u001b[43m)\u001b[49m\n\u001b[0;32m   1045\u001b[0m \u001b[38;5;28;01mexcept\u001b[39;00m:\n\u001b[0;32m   1046\u001b[0m     \u001b[38;5;66;03m# Cleanup if the child failed starting.\u001b[39;00m\n",
      "File \u001b[1;32mc:\\Python\\Lib\\subprocess.py:1548\u001b[0m, in \u001b[0;36mPopen._execute_child\u001b[1;34m(self, args, executable, preexec_fn, close_fds, pass_fds, cwd, env, startupinfo, creationflags, shell, p2cread, p2cwrite, c2pread, c2pwrite, errread, errwrite, unused_restore_signals, unused_gid, unused_gids, unused_uid, unused_umask, unused_start_new_session, unused_process_group)\u001b[0m\n\u001b[0;32m   1547\u001b[0m \u001b[38;5;28;01mtry\u001b[39;00m:\n\u001b[1;32m-> 1548\u001b[0m     hp, ht, pid, tid \u001b[38;5;241m=\u001b[39m \u001b[43m_winapi\u001b[49m\u001b[38;5;241;43m.\u001b[39;49m\u001b[43mCreateProcess\u001b[49m\u001b[43m(\u001b[49m\u001b[43mexecutable\u001b[49m\u001b[43m,\u001b[49m\u001b[43m \u001b[49m\u001b[43margs\u001b[49m\u001b[43m,\u001b[49m\n\u001b[0;32m   1549\u001b[0m \u001b[43m                             \u001b[49m\u001b[38;5;66;43;03m# no special security\u001b[39;49;00m\n\u001b[0;32m   1550\u001b[0m \u001b[43m                             \u001b[49m\u001b[38;5;28;43;01mNone\u001b[39;49;00m\u001b[43m,\u001b[49m\u001b[43m \u001b[49m\u001b[38;5;28;43;01mNone\u001b[39;49;00m\u001b[43m,\u001b[49m\n\u001b[0;32m   1551\u001b[0m \u001b[43m                             \u001b[49m\u001b[38;5;28;43mint\u001b[39;49m\u001b[43m(\u001b[49m\u001b[38;5;129;43;01mnot\u001b[39;49;00m\u001b[43m \u001b[49m\u001b[43mclose_fds\u001b[49m\u001b[43m)\u001b[49m\u001b[43m,\u001b[49m\n\u001b[0;32m   1552\u001b[0m \u001b[43m                             \u001b[49m\u001b[43mcreationflags\u001b[49m\u001b[43m,\u001b[49m\n\u001b[0;32m   1553\u001b[0m \u001b[43m                             \u001b[49m\u001b[43menv\u001b[49m\u001b[43m,\u001b[49m\n\u001b[0;32m   1554\u001b[0m \u001b[43m                             \u001b[49m\u001b[43mcwd\u001b[49m\u001b[43m,\u001b[49m\n\u001b[0;32m   1555\u001b[0m \u001b[43m                             \u001b[49m\u001b[43mstartupinfo\u001b[49m\u001b[43m)\u001b[49m\n\u001b[0;32m   1556\u001b[0m \u001b[38;5;28;01mfinally\u001b[39;00m:\n\u001b[0;32m   1557\u001b[0m     \u001b[38;5;66;03m# Child is launched. Close the parent's copy of those pipe\u001b[39;00m\n\u001b[0;32m   1558\u001b[0m     \u001b[38;5;66;03m# handles that only the child should have open.  You need\u001b[39;00m\n\u001b[1;32m   (...)\u001b[0m\n\u001b[0;32m   1561\u001b[0m     \u001b[38;5;66;03m# pipe will not close when the child process exits and the\u001b[39;00m\n\u001b[0;32m   1562\u001b[0m     \u001b[38;5;66;03m# ReadFile will hang.\u001b[39;00m\n",
      "\u001b[1;31mFileNotFoundError\u001b[0m: [WinError 2] The system cannot find the file specified",
      "\nDuring handling of the above exception, another exception occurred:\n",
      "\u001b[1;31mOSError\u001b[0m                                   Traceback (most recent call last)",
      "Cell \u001b[1;32mIn[66], line 9\u001b[0m\n\u001b[0;32m      7\u001b[0m text_clips \u001b[38;5;241m=\u001b[39m []\n\u001b[0;32m      8\u001b[0m \u001b[38;5;28;01mfor\u001b[39;00m start, end, text \u001b[38;5;129;01min\u001b[39;00m formatted_captions:\n\u001b[1;32m----> 9\u001b[0m     txt_clip \u001b[38;5;241m=\u001b[39m \u001b[43mTextClip\u001b[49m\u001b[43m(\u001b[49m\n\u001b[0;32m     10\u001b[0m \u001b[43m        \u001b[49m\u001b[43mtext\u001b[49m\u001b[43m,\u001b[49m\u001b[43m \u001b[49m\u001b[43mfontsize\u001b[49m\u001b[38;5;241;43m=\u001b[39;49m\u001b[38;5;241;43m24\u001b[39;49m\u001b[43m,\u001b[49m\u001b[43m \u001b[49m\u001b[43mcolor\u001b[49m\u001b[38;5;241;43m=\u001b[39;49m\u001b[38;5;124;43m'\u001b[39;49m\u001b[38;5;124;43mwhite\u001b[39;49m\u001b[38;5;124;43m'\u001b[39;49m\u001b[43m,\u001b[49m\u001b[43m \u001b[49m\u001b[43mbg_color\u001b[49m\u001b[38;5;241;43m=\u001b[39;49m\u001b[38;5;124;43m'\u001b[39;49m\u001b[38;5;124;43mblack\u001b[39;49m\u001b[38;5;124;43m'\u001b[39;49m\u001b[43m,\u001b[49m\u001b[43m \u001b[49m\u001b[43mfont\u001b[49m\u001b[38;5;241;43m=\u001b[39;49m\u001b[38;5;124;43m\"\u001b[39;49m\u001b[38;5;124;43mArial\u001b[39;49m\u001b[38;5;124;43m\"\u001b[39;49m\u001b[43m,\u001b[49m\u001b[43m \u001b[49m\u001b[43mmethod\u001b[49m\u001b[38;5;241;43m=\u001b[39;49m\u001b[38;5;124;43m\"\u001b[39;49m\u001b[38;5;124;43mcaption\u001b[39;49m\u001b[38;5;124;43m\"\u001b[39;49m\n\u001b[0;32m     11\u001b[0m \u001b[43m    \u001b[49m\u001b[43m)\u001b[49m\n\u001b[0;32m     12\u001b[0m     txt_clip \u001b[38;5;241m=\u001b[39m txt_clip\u001b[38;5;241m.\u001b[39mset_position((\u001b[38;5;124m\"\u001b[39m\u001b[38;5;124mcenter\u001b[39m\u001b[38;5;124m\"\u001b[39m, \u001b[38;5;124m\"\u001b[39m\u001b[38;5;124mbottom\u001b[39m\u001b[38;5;124m\"\u001b[39m))\u001b[38;5;241m.\u001b[39mset_duration(end \u001b[38;5;241m-\u001b[39m start)\u001b[38;5;241m.\u001b[39mset_start(start)\n\u001b[0;32m     13\u001b[0m     text_clips\u001b[38;5;241m.\u001b[39mappend(txt_clip)\n",
      "File \u001b[1;32mc:\\Python\\Lib\\site-packages\\moviepy\\video\\VideoClip.py:1146\u001b[0m, in \u001b[0;36mTextClip.__init__\u001b[1;34m(self, txt, filename, size, color, bg_color, fontsize, font, stroke_color, stroke_width, method, kerning, align, interline, tempfilename, temptxt, transparent, remove_temp, print_cmd)\u001b[0m\n\u001b[0;32m   1138\u001b[0m \u001b[38;5;28;01mexcept\u001b[39;00m (\u001b[38;5;167;01mIOError\u001b[39;00m, \u001b[38;5;167;01mOSError\u001b[39;00m) \u001b[38;5;28;01mas\u001b[39;00m err:\n\u001b[0;32m   1139\u001b[0m     error \u001b[38;5;241m=\u001b[39m (\u001b[38;5;124m\"\u001b[39m\u001b[38;5;124mMoviePy Error: creation of \u001b[39m\u001b[38;5;132;01m%s\u001b[39;00m\u001b[38;5;124m failed because of the \u001b[39m\u001b[38;5;124m\"\u001b[39m\n\u001b[0;32m   1140\u001b[0m              \u001b[38;5;124m\"\u001b[39m\u001b[38;5;124mfollowing error:\u001b[39m\u001b[38;5;130;01m\\n\u001b[39;00m\u001b[38;5;130;01m\\n\u001b[39;00m\u001b[38;5;132;01m%s\u001b[39;00m\u001b[38;5;124m.\u001b[39m\u001b[38;5;130;01m\\n\u001b[39;00m\u001b[38;5;130;01m\\n\u001b[39;00m\u001b[38;5;124m.\u001b[39m\u001b[38;5;124m\"\u001b[39m \u001b[38;5;241m%\u001b[39m (filename, \u001b[38;5;28mstr\u001b[39m(err))\n\u001b[0;32m   1141\u001b[0m              \u001b[38;5;241m+\u001b[39m (\u001b[38;5;124m\"\u001b[39m\u001b[38;5;124mThis error can be due to the fact that ImageMagick \u001b[39m\u001b[38;5;124m\"\u001b[39m\n\u001b[1;32m   (...)\u001b[0m\n\u001b[0;32m   1144\u001b[0m                 \u001b[38;5;124m\"\u001b[39m\u001b[38;5;124mImageMagick binary in file conf.py, or that the path \u001b[39m\u001b[38;5;124m\"\u001b[39m\n\u001b[0;32m   1145\u001b[0m                 \u001b[38;5;124m\"\u001b[39m\u001b[38;5;124myou specified is incorrect\u001b[39m\u001b[38;5;124m\"\u001b[39m))\n\u001b[1;32m-> 1146\u001b[0m     \u001b[38;5;28;01mraise\u001b[39;00m \u001b[38;5;167;01mIOError\u001b[39;00m(error)\n\u001b[0;32m   1148\u001b[0m ImageClip\u001b[38;5;241m.\u001b[39m\u001b[38;5;21m__init__\u001b[39m(\u001b[38;5;28mself\u001b[39m, tempfilename, transparent\u001b[38;5;241m=\u001b[39mtransparent)\n\u001b[0;32m   1149\u001b[0m \u001b[38;5;28mself\u001b[39m\u001b[38;5;241m.\u001b[39mtxt \u001b[38;5;241m=\u001b[39m txt\n",
      "\u001b[1;31mOSError\u001b[0m: MoviePy Error: creation of None failed because of the following error:\n\n[WinError 2] The system cannot find the file specified.\n\n.This error can be due to the fact that ImageMagick is not installed on your computer, or (for Windows users) that you didn't specify the path to the ImageMagick binary in file conf.py, or that the path you specified is incorrect"
     ]
    }
   ],
   "source": [
    "# from moviepy.editor import VideoFileClip, TextClip, CompositeVideoClip\n",
    "\n",
    "# # Load video file\n",
    "# video = VideoFileClip(\"videos/output.mp4\")\n",
    "\n",
    "# # Add captions using PIL (instead of ImageMagick)\n",
    "# text_clips = []\n",
    "# for start, end, text in formatted_captions:\n",
    "#     txt_clip = TextClip(\n",
    "#         text, fontsize=24, color='white', bg_color='black', font=\"Arial\", method=\"caption\"\n",
    "#     )\n",
    "#     txt_clip = txt_clip.set_position((\"center\", \"bottom\")).set_duration(end - start).set_start(start)\n",
    "#     text_clips.append(txt_clip)\n",
    "\n",
    "# # Overlay text on video\n",
    "# final_video = CompositeVideoClip([video] + text_clips)\n",
    "\n",
    "# # Crop to square (centered)\n",
    "# square_video = final_video.crop(\n",
    "#     width=1080, \n",
    "#     height=1080, \n",
    "#     x_center=final_video.w / 2,  \n",
    "#     y_center=final_video.h / 2    \n",
    "# )\n",
    "\n",
    "# # Add black bars for 1080x1920 format\n",
    "# padding = (1920 - 1080) // 2  \n",
    "# video_with_bars = square_video.margin(top=padding, bottom=padding, color=(0, 0, 0))\n",
    "\n",
    "# # Save the final video\n",
    "# video_with_bars.write_videofile(\"videos/output_square.mp4\", codec=\"libx264\", fps=video.fps)\n"
   ]
  },
  {
   "cell_type": "code",
   "execution_count": 78,
   "metadata": {},
   "outputs": [
    {
     "name": "stdout",
     "output_type": "stream",
     "text": [
      "Moviepy - Building video videos/output_square.mp4.\n",
      "MoviePy - Writing audio in output_squareTEMP_MPY_wvf_snd.mp3\n"
     ]
    },
    {
     "name": "stderr",
     "output_type": "stream",
     "text": [
      "                                                                        \r"
     ]
    },
    {
     "name": "stdout",
     "output_type": "stream",
     "text": [
      "MoviePy - Done.\n",
      "Moviepy - Writing video videos/output_square.mp4\n",
      "\n"
     ]
    },
    {
     "name": "stderr",
     "output_type": "stream",
     "text": [
      "t: 100%|█████████▉| 24036/24040 [32:53<00:00, 14.09it/s, now=None]2025-04-04 00:58:04,276 - WARNING - c:\\Python\\Lib\\site-packages\\moviepy\\video\\io\\ffmpeg_reader.py:123: UserWarning: Warning: in file videos/output.mp4, 6220800 bytes wanted but 0 bytes read,at frame 24036/24040, at time 802.00/802.11 sec. Using the last valid frame instead.\n",
      "  warnings.warn(\"Warning: in file %s, \"%(self.filename)+\n",
      "\n",
      "t: 100%|█████████▉| 24038/24040 [32:53<00:00, 13.69it/s, now=None]2025-04-04 00:58:04,353 - WARNING - c:\\Python\\Lib\\site-packages\\moviepy\\video\\io\\ffmpeg_reader.py:123: UserWarning: Warning: in file videos/output.mp4, 6220800 bytes wanted but 0 bytes read,at frame 24037/24040, at time 802.03/802.11 sec. Using the last valid frame instead.\n",
      "  warnings.warn(\"Warning: in file %s, \"%(self.filename)+\n",
      "\n",
      "2025-04-04 00:58:04,419 - WARNING - c:\\Python\\Lib\\site-packages\\moviepy\\video\\io\\ffmpeg_reader.py:123: UserWarning: Warning: in file videos/output.mp4, 6220800 bytes wanted but 0 bytes read,at frame 24038/24040, at time 802.07/802.11 sec. Using the last valid frame instead.\n",
      "  warnings.warn(\"Warning: in file %s, \"%(self.filename)+\n",
      "\n",
      "t: 100%|██████████| 24040/24040 [32:53<00:00, 14.12it/s, now=None]2025-04-04 00:58:04,484 - WARNING - c:\\Python\\Lib\\site-packages\\moviepy\\video\\io\\ffmpeg_reader.py:123: UserWarning: Warning: in file videos/output.mp4, 6220800 bytes wanted but 0 bytes read,at frame 24039/24040, at time 802.10/802.11 sec. Using the last valid frame instead.\n",
      "  warnings.warn(\"Warning: in file %s, \"%(self.filename)+\n",
      "\n",
      "                                                                  \r"
     ]
    },
    {
     "name": "stdout",
     "output_type": "stream",
     "text": [
      "Moviepy - Done !\n",
      "Moviepy - video ready videos/output_square.mp4\n"
     ]
    }
   ],
   "source": [
    "# from moviepy.editor import VideoFileClip, TextClip, CompositeVideoClip\n",
    "\n",
    "# import moviepy.config as mpconf\n",
    "\n",
    "# # Set the path to ImageMagick (change it based on your installation directory)\n",
    "# mpconf.change_settings({\"IMAGEMAGICK_BINARY\": r\"C:\\Program Files\\ImageMagick-7.1.1-Q16-HDRI\\magick.exe\"})\n",
    "\n",
    "# # Load video file\n",
    "# video = VideoFileClip(\"videos/output.mp4\")\n",
    "\n",
    "# text_clips = []\n",
    "# for start, end, text in formatted_captions:\n",
    "#     words = text.split()  # Split sentence into words\n",
    "#     duration_per_word = (end - start) / len(words)  # Distribute time equally per word\n",
    "    \n",
    "#     for i, word in enumerate(words):\n",
    "#         word_start = start + i * duration_per_word  # Set start time for each word\n",
    "#         txt_clip = TextClip(\n",
    "#             word, fontsize=100, color='white', font=\"Comic Sans MS\", method=\"caption\"\n",
    "#         ).set_position((\"center\", \"center\")).set_duration(duration_per_word).set_start(word_start)\n",
    "        \n",
    "#         text_clips.append(txt_clip)\n",
    "\n",
    "# # Overlay text on video\n",
    "# final_video = CompositeVideoClip([video] + text_clips)\n",
    "\n",
    "# # Crop to square (centered)\n",
    "# square_video = final_video.crop(\n",
    "#     width=1080, \n",
    "#     height=1080, \n",
    "#     x_center=final_video.w / 2,  \n",
    "#     y_center=final_video.h / 2    \n",
    "# )\n",
    "\n",
    "# # Add black bars for 1080x1920 format\n",
    "# padding = (1920 - 1080) // 2  \n",
    "# video_with_bars = square_video.margin(top=padding, bottom=padding, color=(0, 0, 0))\n",
    "\n",
    "# # Save the final video\n",
    "# video_with_bars.write_videofile(\"videos/output_square.mp4\", codec=\"libx264\", fps=video.fps)\n"
   ]
  },
  {
   "cell_type": "code",
   "execution_count": null,
   "metadata": {},
   "outputs": [
    {
     "name": "stdout",
     "output_type": "stream",
     "text": [
      "Moviepy - Building video videos/output_square.mp4.\n",
      "MoviePy - Writing audio in output_squareTEMP_MPY_wvf_snd.mp3\n"
     ]
    },
    {
     "name": "stderr",
     "output_type": "stream",
     "text": [
      "                                                                    \r"
     ]
    },
    {
     "name": "stdout",
     "output_type": "stream",
     "text": [
      "MoviePy - Done.\n",
      "Moviepy - Writing video videos/output_square.mp4\n",
      "\n"
     ]
    },
    {
     "name": "stderr",
     "output_type": "stream",
     "text": [
      "                                                                \r"
     ]
    },
    {
     "name": "stdout",
     "output_type": "stream",
     "text": [
      "Moviepy - Done !\n",
      "Moviepy - video ready videos/output_square.mp4\n"
     ]
    }
   ],
   "source": [
    "# from moviepy.editor import VideoFileClip, TextClip, CompositeVideoClip\n",
    "# import moviepy.config as mpconf\n",
    "\n",
    "# # Set ImageMagick binary path\n",
    "# mpconf.change_settings({\"IMAGEMAGICK_BINARY\": r\"C:\\Program Files\\ImageMagick-7.1.1-Q16-HDRI\\magick.exe\"})\n",
    "\n",
    "# # Load and trim video to first 30 seconds\n",
    "# video = VideoFileClip(\"videos/output.mp4\").subclip(0, 30)\n",
    "\n",
    "# text_clips = []\n",
    "# for start, end, text in formatted_captions:\n",
    "#     if start > 30:  # Ignore captions beyond 30 seconds\n",
    "#         break\n",
    "    \n",
    "#     words = text.split()  # Split sentence into words\n",
    "#     duration_per_word = min((end - start) / len(words), 30 - start)  # Ensure within 30s\n",
    "\n",
    "#     for i, word in enumerate(words):\n",
    "#         word_start = start + i * duration_per_word  # Set start time for each word\n",
    "#         if word_start >= 30:  # Stop adding words beyond 30 seconds\n",
    "#             break\n",
    "\n",
    "#         txt_clip = TextClip(\n",
    "#             word, fontsize=100, color='white', font=\"Comic Sans MS\", method=\"caption\"\n",
    "#         ).set_position((\"center\", \"center\")).set_duration(duration_per_word).set_start(word_start)\n",
    "        \n",
    "#         text_clips.append(txt_clip)\n",
    "\n",
    "# # Overlay text on video\n",
    "# final_video = CompositeVideoClip([video] + text_clips)\n",
    "\n",
    "# # Crop to square (centered)\n",
    "# square_video = final_video.crop(\n",
    "#     width=1080, \n",
    "#     height=1080, \n",
    "#     x_center=final_video.w / 2,  \n",
    "#     y_center=final_video.h / 2    \n",
    "# )\n",
    "\n",
    "# # Add black bars for 1080x1920 format\n",
    "# padding = (1920 - 1080) // 2  \n",
    "# video_with_bars = square_video.margin(top=padding, bottom=padding, color=(0, 0, 0))\n",
    "\n",
    "# # Save the final video\n",
    "# video_with_bars.write_videofile(\"videos/output_square.mp4\", codec=\"libx264\", fps=video.fps)\n"
   ]
  },
  {
   "cell_type": "code",
   "execution_count": null,
   "metadata": {},
   "outputs": [
    {
     "name": "stdout",
     "output_type": "stream",
     "text": [
      "Moviepy - Building video videos/output_square.mp4.\n",
      "MoviePy - Writing audio in output_squareTEMP_MPY_wvf_snd.mp3\n"
     ]
    },
    {
     "name": "stderr",
     "output_type": "stream",
     "text": [
      "                                                                    \r"
     ]
    },
    {
     "name": "stdout",
     "output_type": "stream",
     "text": [
      "MoviePy - Done.\n",
      "Moviepy - Writing video videos/output_square.mp4\n",
      "\n"
     ]
    },
    {
     "name": "stderr",
     "output_type": "stream",
     "text": [
      "                                                                \r"
     ]
    },
    {
     "name": "stdout",
     "output_type": "stream",
     "text": [
      "Moviepy - Done !\n",
      "Moviepy - video ready videos/output_square.mp4\n"
     ]
    }
   ],
   "source": [
    "# from moviepy.editor import VideoFileClip, TextClip, CompositeVideoClip\n",
    "# import moviepy.config as mpconf\n",
    "\n",
    "# # Set ImageMagick binary path\n",
    "# mpconf.change_settings({\"IMAGEMAGICK_BINARY\": r\"C:\\Program Files\\ImageMagick-7.1.1-Q16-HDRI\\magick.exe\"})\n",
    "\n",
    "# # Load and trim video to first 30 seconds\n",
    "# video = VideoFileClip(\"videos/output.mp4\").subclip(0, 30)\n",
    "\n",
    "# text_clips = []\n",
    "# last_end_time = 0\n",
    "\n",
    "# for start, end, text in formatted_captions:\n",
    "#     if start >= 30:\n",
    "#         break\n",
    "\n",
    "#     # Prevent overlapping\n",
    "#     actual_start = max(start, last_end_time)\n",
    "#     actual_end = min(end, 30)\n",
    "\n",
    "#     if actual_end <= actual_start:\n",
    "#         continue  # Skip if duration is 0 or negative\n",
    "\n",
    "#     duration = actual_end - actual_start\n",
    "\n",
    "#     txt_clip = TextClip(\n",
    "#         text,\n",
    "#         fontsize=100,\n",
    "#         color='white',\n",
    "#         font=\"Comic Sans MS\",\n",
    "#         method=\"caption\",\n",
    "#         size=(video.w * 0.8, None),  # wrap text nicely\n",
    "#         align='center'\n",
    "#     ).set_position((\"center\", \"bottom\")).set_duration(duration).set_start(actual_start)\n",
    "\n",
    "#     text_clips.append(txt_clip)\n",
    "#     last_end_time = actual_start + duration\n",
    "\n",
    "# # Overlay text on video\n",
    "# final_video = CompositeVideoClip([video] + text_clips)\n",
    "\n",
    "# # Crop to square (centered)\n",
    "# square_video = final_video.crop(\n",
    "#     width=1080, \n",
    "#     height=1080, \n",
    "#     x_center=final_video.w / 2,  \n",
    "#     y_center=final_video.h / 2    \n",
    "# )\n",
    "\n",
    "# # Add black bars for 1080x1920 format\n",
    "# padding = (1920 - 1080) // 2  \n",
    "# video_with_bars = square_video.margin(top=padding, bottom=padding, color=(0, 0, 0))\n",
    "\n",
    "# # Save the final video\n",
    "# video_with_bars.write_videofile(\"videos/output_square.mp4\", codec=\"libx264\", fps=video.fps)\n"
   ]
  },
  {
   "cell_type": "code",
   "execution_count": 10,
   "metadata": {},
   "outputs": [
    {
     "name": "stdout",
     "output_type": "stream",
     "text": [
      "Moviepy - Building video videos/output_square.mp4.\n",
      "MoviePy - Writing audio in output_squareTEMP_MPY_wvf_snd.mp3\n"
     ]
    },
    {
     "name": "stderr",
     "output_type": "stream",
     "text": [
      "                                                                    \r"
     ]
    },
    {
     "name": "stdout",
     "output_type": "stream",
     "text": [
      "MoviePy - Done.\n",
      "Moviepy - Writing video videos/output_square.mp4\n",
      "\n"
     ]
    },
    {
     "name": "stderr",
     "output_type": "stream",
     "text": [
      "                                                                \r"
     ]
    },
    {
     "name": "stdout",
     "output_type": "stream",
     "text": [
      "Moviepy - Done !\n",
      "Moviepy - video ready videos/output_square.mp4\n"
     ]
    }
   ],
   "source": [
    "from moviepy.editor import VideoFileClip, TextClip, CompositeVideoClip\n",
    "import moviepy.config as mpconf\n",
    "\n",
    "# Set ImageMagick binary path\n",
    "mpconf.change_settings({\"IMAGEMAGICK_BINARY\": r\"C:\\Program Files\\ImageMagick-7.1.1-Q16-HDRI\\magick.exe\"})\n",
    "\n",
    "# Load and trim video to first 30 seconds\n",
    "video = VideoFileClip(\"videos/output.mp4\").subclip(0, 30)\n",
    "\n",
    "text_clips = []\n",
    "last_end_time = 0\n",
    "\n",
    "for start, end, text in formatted_captions:\n",
    "    if start >= 30:\n",
    "        break\n",
    "\n",
    "    # Prevent overlapping\n",
    "    actual_start = max(start, last_end_time)\n",
    "    actual_end = min(end, 30)\n",
    "\n",
    "    if actual_end <= actual_start:\n",
    "        continue  # Skip if duration is 0 or negative\n",
    "\n",
    "    duration = actual_end - actual_start\n",
    "\n",
    "    txt_clip = TextClip(\n",
    "        text,\n",
    "        fontsize=60,  # reduced for 1080p format\n",
    "        color='white',\n",
    "        font=\"Comic Sans MS\",\n",
    "        method=\"caption\",\n",
    "        size=(900, None),  # fits well within 1080px width\n",
    "        align='center'\n",
    "    ).set_position((\"center\", \"bottom\")).set_duration(duration).set_start(actual_start)\n",
    "\n",
    "    text_clips.append(txt_clip)\n",
    "    last_end_time = actual_start + duration\n",
    "\n",
    "# Overlay text on video\n",
    "final_video = CompositeVideoClip([video] + text_clips)\n",
    "\n",
    "# Crop to square (centered)\n",
    "square_video = final_video.crop(\n",
    "    width=1080, \n",
    "    height=1080, \n",
    "    x_center=final_video.w / 2,  \n",
    "    y_center=final_video.h / 2    \n",
    ")\n",
    "\n",
    "# Add black bars for 1080x1920 format\n",
    "padding = (1920 - 1080) // 2  \n",
    "video_with_bars = square_video.margin(top=padding, bottom=padding, color=(0, 0, 0))\n",
    "\n",
    "# Save the final video\n",
    "video_with_bars.write_videofile(\"videos/output_square.mp4\", codec=\"libx264\", fps=video.fps)\n"
   ]
  },
  {
   "cell_type": "code",
   "execution_count": null,
   "metadata": {},
   "outputs": [],
   "source": [
    "import logging\n",
    "import os\n",
    "import subprocess\n",
    "from pytubefix import YouTube\n",
    "from moviepy.editor import VideoFileClip, TextClip, CompositeVideoClip\n",
    "import moviepy.config as mpconf\n",
    "\n",
    "# Setup logging\n",
    "logging.basicConfig(level=logging.INFO, format='%(asctime)s - %(levelname)s - %(message)s')\n",
    "\n",
    "# Paths\n",
    "url = \"https://www.youtube.com/watch?v=HBt86bgsgMU\"\n",
    "output_dir = os.path.join(\"D:\", \"Study\", \"Python\", \"Learning\", \"ClipKart\", \"New folder\", \"videos\")\n",
    "video_path = os.path.join(output_dir, \"video.mp4\")\n",
    "audio_path = os.path.join(output_dir, \"audio.mp4\")\n",
    "output_path = os.path.join(output_dir, \"output.mp4\")\n",
    "final_output_path = os.path.join(output_dir, \"output_square.mp4\")\n",
    "\n",
    "# Fetch video\n",
    "yt = YouTube(url)\n",
    "video_stream = yt.streams.filter(res=\"1080p\", mime_type=\"video/mp4\").first()\n",
    "audio_stream = yt.streams.filter(only_audio=True).first()\n",
    "\n",
    "if not video_stream or not audio_stream:\n",
    "    raise ValueError(\"Video or audio stream not found.\")\n",
    "\n",
    "# Download video and audio\n",
    "video_stream.download(output_path=output_dir, filename=\"video.mp4\")\n",
    "audio_stream.download(output_path=output_dir, filename=\"audio.mp4\")\n",
    "\n",
    "# Merge video and audio using ffmpeg (via subprocess)\n",
    "subprocess.run([\n",
    "    \"ffmpeg\",\n",
    "    \"-i\", video_path,\n",
    "    \"-i\", audio_path,\n",
    "    \"-c:v\", \"copy\",\n",
    "    \"-c:a\", \"aac\",\n",
    "    output_path\n",
    "], check=True)\n",
    "\n",
    "# Clean up raw video/audio\n",
    "os.remove(video_path)\n",
    "os.remove(audio_path)\n",
    "\n",
    "# Handle captions\n",
    "caption = yt.captions.get_by_language_code('a.en') or yt.captions.get_by_language_code('a.hi')\n",
    "if not caption:\n",
    "    raise ValueError(\"No captions available in English or Hindi.\")\n",
    "\n",
    "srt_text = caption.generate_srt_captions()\n",
    "\n",
    "# Parse SRT\n",
    "def parse_srt(srt_text):\n",
    "    blocks = srt_text.strip().split(\"\\n\\n\")\n",
    "    parsed = []\n",
    "    for block in blocks:\n",
    "        lines = block.split(\"\\n\")\n",
    "        if len(lines) >= 3:\n",
    "            index = int(lines[0])\n",
    "            time_range = lines[1]\n",
    "            text = \" \".join(lines[2:])\n",
    "            parsed.append((index, time_range, text))\n",
    "    return parsed\n",
    "\n",
    "captions_list = parse_srt(srt_text)\n",
    "\n",
    "# Convert SRT time to seconds\n",
    "def srt_to_seconds(time_str):\n",
    "    h, m, s = time_str.split(\":\")\n",
    "    s, ms = s.split(\",\")\n",
    "    return int(h)*3600 + int(m)*60 + int(s) + int(ms)/1000\n",
    "\n",
    "# Apply offset to captions\n",
    "CAPTION_OFFSET = -3 # shift all subtitles back 1.5s for better alignment\n",
    "formatted_captions = []\n",
    "for index, time_range, text in captions_list:\n",
    "    start, end = time_range.split(\" --> \")\n",
    "    start_time = max(srt_to_seconds(start) + CAPTION_OFFSET, 0)\n",
    "    end_time = max(srt_to_seconds(end) + CAPTION_OFFSET, 0)\n",
    "    formatted_captions.append((start_time, end_time, text))\n",
    "\n",
    "# Set ImageMagick path (edit if needed)\n",
    "mpconf.change_settings({\"IMAGEMAGICK_BINARY\": r\"C:\\Program Files\\ImageMagick-7.1.1-Q16-HDRI\\magick.exe\"})\n",
    "\n",
    "# Load trimmed video\n",
    "video = VideoFileClip(output_path).subclip(0, 30)\n",
    "\n",
    "# Generate caption clips\n",
    "text_clips = []\n",
    "last_end_time = 0\n",
    "\n",
    "for start, end, text in formatted_captions:\n",
    "    if start >= 30:\n",
    "        break\n",
    "    actual_start = max(start, last_end_time)\n",
    "    actual_end = min(end, 30)\n",
    "    if actual_end <= actual_start:\n",
    "        continue\n",
    "    duration = actual_end - actual_start\n",
    "\n",
    "    txt_clip = TextClip(\n",
    "        text,\n",
    "        fontsize=60,\n",
    "        color='white',\n",
    "        font=\"Arial\",  # safer fallback\n",
    "        method=\"caption\",\n",
    "        size=(900, None),\n",
    "        align='center'\n",
    "    ).set_position((\"center\", \"bottom\")).set_duration(duration).set_start(actual_start)\n",
    "\n",
    "    text_clips.append(txt_clip)\n",
    "    last_end_time = actual_start + duration\n",
    "\n",
    "# Merge captions onto video\n",
    "final_video = CompositeVideoClip([video] + text_clips)\n",
    "\n",
    "# Crop to 1080x1080 (center)\n",
    "square_video = final_video.crop(\n",
    "    width=1080,\n",
    "    height=1080,\n",
    "    x_center=final_video.w / 2,\n",
    "    y_center=final_video.h / 2\n",
    ")\n",
    "\n",
    "# Add black bars for 1080x1920 format\n",
    "padding = (1920 - 1080) // 2\n",
    "video_with_bars = square_video.margin(top=padding, bottom=padding, color=(0, 0, 0))\n",
    "\n",
    "# Export\n",
    "video_with_bars.write_videofile(final_output_path, codec=\"libx264\", fps=video.fps)\n"
   ]
  },
  {
   "cell_type": "code",
   "execution_count": null,
   "metadata": {},
   "outputs": [],
   "source": []
  }
 ],
 "metadata": {
  "kernelspec": {
   "display_name": "Python 3",
   "language": "python",
   "name": "python3"
  },
  "language_info": {
   "codemirror_mode": {
    "name": "ipython",
    "version": 3
   },
   "file_extension": ".py",
   "mimetype": "text/x-python",
   "name": "python",
   "nbconvert_exporter": "python",
   "pygments_lexer": "ipython3",
   "version": "3.13.1"
  }
 },
 "nbformat": 4,
 "nbformat_minor": 2
}
